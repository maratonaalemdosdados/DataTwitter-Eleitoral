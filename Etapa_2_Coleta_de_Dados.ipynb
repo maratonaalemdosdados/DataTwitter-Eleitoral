{
  "nbformat": 4,
  "nbformat_minor": 0,
  "metadata": {
    "colab": {
      "name": "Etapa 2 - Coleta de Dados.ipynb",
      "provenance": [],
      "authorship_tag": "ABX9TyNBhPw/DyaMypVY7Eb8guTO",
      "include_colab_link": true
    },
    "kernelspec": {
      "name": "python3",
      "display_name": "Python 3"
    },
    "language_info": {
      "name": "python"
    }
  },
  "cells": [
    {
      "cell_type": "markdown",
      "metadata": {
        "id": "view-in-github",
        "colab_type": "text"
      },
      "source": [
        "<a href=\"https://colab.research.google.com/github/maratonaalemdosdados/DataTwitter-Eleitoral/blob/main/Etapa_2_Coleta_de_Dados.ipynb\" target=\"_parent\"><img src=\"https://colab.research.google.com/assets/colab-badge.svg\" alt=\"Open In Colab\"/></a>"
      ]
    },
    {
      "cell_type": "markdown",
      "source": [
        "### Apresentação do Projeto\n",
        "\n",
        "Proposta para a construção de uma aplicação que realiza análise de sentimento dos candidatos à presidência."
      ],
      "metadata": {
        "id": "Eqg-opZnP9V1"
      }
    },
    {
      "cell_type": "markdown",
      "source": [
        "Instalação das Bibliotecas"
      ],
      "metadata": {
        "id": "nwy8Rkb8WgUn"
      }
    },
    {
      "cell_type": "code",
      "source": [
        "pip install snscrape"
      ],
      "metadata": {
        "colab": {
          "base_uri": "https://localhost:8080/"
        },
        "id": "PXh1eiElWVXt",
        "outputId": "cae7e2b0-585d-44c1-b6cb-c66aad4c4d75"
      },
      "execution_count": null,
      "outputs": [
        {
          "output_type": "stream",
          "name": "stdout",
          "text": [
            "Looking in indexes: https://pypi.org/simple, https://us-python.pkg.dev/colab-wheels/public/simple/\n",
            "Requirement already satisfied: snscrape in /usr/local/lib/python3.7/dist-packages (0.3.4)\n",
            "Requirement already satisfied: requests[socks] in /usr/local/lib/python3.7/dist-packages (from snscrape) (2.23.0)\n",
            "Requirement already satisfied: beautifulsoup4 in /usr/local/lib/python3.7/dist-packages (from snscrape) (4.6.3)\n",
            "Requirement already satisfied: lxml in /usr/local/lib/python3.7/dist-packages (from snscrape) (4.2.6)\n",
            "Requirement already satisfied: idna<3,>=2.5 in /usr/local/lib/python3.7/dist-packages (from requests[socks]->snscrape) (2.10)\n",
            "Requirement already satisfied: urllib3!=1.25.0,!=1.25.1,<1.26,>=1.21.1 in /usr/local/lib/python3.7/dist-packages (from requests[socks]->snscrape) (1.24.3)\n",
            "Requirement already satisfied: certifi>=2017.4.17 in /usr/local/lib/python3.7/dist-packages (from requests[socks]->snscrape) (2022.6.15)\n",
            "Requirement already satisfied: chardet<4,>=3.0.2 in /usr/local/lib/python3.7/dist-packages (from requests[socks]->snscrape) (3.0.4)\n",
            "Requirement already satisfied: PySocks!=1.5.7,>=1.5.6 in /usr/local/lib/python3.7/dist-packages (from requests[socks]->snscrape) (1.7.1)\n"
          ]
        }
      ]
    },
    {
      "cell_type": "markdown",
      "source": [
        "Importando as Bibliotecas"
      ],
      "metadata": {
        "id": "6Da3O_0nXFdY"
      }
    },
    {
      "cell_type": "code",
      "source": [
        "import snscrape.modules.twitter as sntwitter\n",
        "\n",
        "#Manipulação de Dados\n",
        "import pandas as pd"
      ],
      "metadata": {
        "id": "2izu_4vbWwzu"
      },
      "execution_count": null,
      "outputs": []
    },
    {
      "cell_type": "code",
      "source": [
        "maximo_de_tweets = 50"
      ],
      "metadata": {
        "id": "8lhw0UgeXatd"
      },
      "execution_count": null,
      "outputs": []
    },
    {
      "cell_type": "markdown",
      "source": [
        "### Lula"
      ],
      "metadata": {
        "id": "53oaGfs-a_IC"
      }
    },
    {
      "cell_type": "code",
      "source": [
        "lista_de_tweets_lula = []"
      ],
      "metadata": {
        "id": "t14qkRgAX54w"
      },
      "execution_count": null,
      "outputs": []
    },
    {
      "cell_type": "code",
      "source": [
        "for i, tweet in enumerate(sntwitter.TwitterSearchScraper(['lula']).get_items()):\n",
        "  if i > maximo_de_tweets:\n",
        "    break\n",
        "  lista_de_tweets_lula.append([tweet.date, tweet.id, tweet.content])"
      ],
      "metadata": {
        "id": "4UxfFQ9eZIqQ"
      },
      "execution_count": null,
      "outputs": []
    },
    {
      "cell_type": "code",
      "source": [
        "type(lista_de_tweets_lula)"
      ],
      "metadata": {
        "colab": {
          "base_uri": "https://localhost:8080/"
        },
        "id": "myu_NEmvahD_",
        "outputId": "56da6a2f-b79e-4ef6-f1e8-201f7ae1baf0"
      },
      "execution_count": null,
      "outputs": [
        {
          "output_type": "execute_result",
          "data": {
            "text/plain": [
              "list"
            ]
          },
          "metadata": {},
          "execution_count": 29
        }
      ]
    },
    {
      "cell_type": "code",
      "source": [
        "dataframe_tweets_lula = pd.DataFrame(lista_de_tweets_lula, columns=['Data_Hora', 'IdTweet', 'Tweet'])"
      ],
      "metadata": {
        "id": "mcNLIaxBam8v"
      },
      "execution_count": null,
      "outputs": []
    },
    {
      "cell_type": "code",
      "source": [
        "dataframe_tweets_lula.head()"
      ],
      "metadata": {
        "colab": {
          "base_uri": "https://localhost:8080/",
          "height": 206
        },
        "id": "2SbhpGJScFeI",
        "outputId": "27e8b1d8-3e64-4aac-f761-ac1cb6e1a698"
      },
      "execution_count": null,
      "outputs": [
        {
          "output_type": "execute_result",
          "data": {
            "text/plain": [
              "                  Data_Hora              IdTweet  \\\n",
              "0 2022-07-30 00:05:44+00:00  1553169938575249408   \n",
              "1 2022-07-30 00:05:44+00:00  1553169937178497025   \n",
              "2 2022-07-30 00:05:44+00:00  1553169937073594368   \n",
              "3 2022-07-30 00:05:43+00:00  1553169934947160065   \n",
              "4 2022-07-30 00:05:42+00:00  1553169932141187072   \n",
              "\n",
              "                                               Tweet  \n",
              "0   @CentralEleicoes Fora Bolsonaro. É Lula e Rafael  \n",
              "1  eu sonhei que conhecia o presidente lula (????...  \n",
              "2  @LulaOficial LADRÃO! EX-PRESIDIARIO! O inferno...  \n",
              "3  @jeongoocrf @bolsopiva @LulaOficial https://t....  \n",
              "4  @DMoreirq @FlavioBolsonaro @CevilerioCelso Des...  "
            ],
            "text/html": [
              "\n",
              "  <div id=\"df-57b771c8-2cd3-48eb-8489-bdec19570962\">\n",
              "    <div class=\"colab-df-container\">\n",
              "      <div>\n",
              "<style scoped>\n",
              "    .dataframe tbody tr th:only-of-type {\n",
              "        vertical-align: middle;\n",
              "    }\n",
              "\n",
              "    .dataframe tbody tr th {\n",
              "        vertical-align: top;\n",
              "    }\n",
              "\n",
              "    .dataframe thead th {\n",
              "        text-align: right;\n",
              "    }\n",
              "</style>\n",
              "<table border=\"1\" class=\"dataframe\">\n",
              "  <thead>\n",
              "    <tr style=\"text-align: right;\">\n",
              "      <th></th>\n",
              "      <th>Data_Hora</th>\n",
              "      <th>IdTweet</th>\n",
              "      <th>Tweet</th>\n",
              "    </tr>\n",
              "  </thead>\n",
              "  <tbody>\n",
              "    <tr>\n",
              "      <th>0</th>\n",
              "      <td>2022-07-30 00:05:44+00:00</td>\n",
              "      <td>1553169938575249408</td>\n",
              "      <td>@CentralEleicoes Fora Bolsonaro. É Lula e Rafael</td>\n",
              "    </tr>\n",
              "    <tr>\n",
              "      <th>1</th>\n",
              "      <td>2022-07-30 00:05:44+00:00</td>\n",
              "      <td>1553169937178497025</td>\n",
              "      <td>eu sonhei que conhecia o presidente lula (????...</td>\n",
              "    </tr>\n",
              "    <tr>\n",
              "      <th>2</th>\n",
              "      <td>2022-07-30 00:05:44+00:00</td>\n",
              "      <td>1553169937073594368</td>\n",
              "      <td>@LulaOficial LADRÃO! EX-PRESIDIARIO! O inferno...</td>\n",
              "    </tr>\n",
              "    <tr>\n",
              "      <th>3</th>\n",
              "      <td>2022-07-30 00:05:43+00:00</td>\n",
              "      <td>1553169934947160065</td>\n",
              "      <td>@jeongoocrf @bolsopiva @LulaOficial https://t....</td>\n",
              "    </tr>\n",
              "    <tr>\n",
              "      <th>4</th>\n",
              "      <td>2022-07-30 00:05:42+00:00</td>\n",
              "      <td>1553169932141187072</td>\n",
              "      <td>@DMoreirq @FlavioBolsonaro @CevilerioCelso Des...</td>\n",
              "    </tr>\n",
              "  </tbody>\n",
              "</table>\n",
              "</div>\n",
              "      <button class=\"colab-df-convert\" onclick=\"convertToInteractive('df-57b771c8-2cd3-48eb-8489-bdec19570962')\"\n",
              "              title=\"Convert this dataframe to an interactive table.\"\n",
              "              style=\"display:none;\">\n",
              "        \n",
              "  <svg xmlns=\"http://www.w3.org/2000/svg\" height=\"24px\"viewBox=\"0 0 24 24\"\n",
              "       width=\"24px\">\n",
              "    <path d=\"M0 0h24v24H0V0z\" fill=\"none\"/>\n",
              "    <path d=\"M18.56 5.44l.94 2.06.94-2.06 2.06-.94-2.06-.94-.94-2.06-.94 2.06-2.06.94zm-11 1L8.5 8.5l.94-2.06 2.06-.94-2.06-.94L8.5 2.5l-.94 2.06-2.06.94zm10 10l.94 2.06.94-2.06 2.06-.94-2.06-.94-.94-2.06-.94 2.06-2.06.94z\"/><path d=\"M17.41 7.96l-1.37-1.37c-.4-.4-.92-.59-1.43-.59-.52 0-1.04.2-1.43.59L10.3 9.45l-7.72 7.72c-.78.78-.78 2.05 0 2.83L4 21.41c.39.39.9.59 1.41.59.51 0 1.02-.2 1.41-.59l7.78-7.78 2.81-2.81c.8-.78.8-2.07 0-2.86zM5.41 20L4 18.59l7.72-7.72 1.47 1.35L5.41 20z\"/>\n",
              "  </svg>\n",
              "      </button>\n",
              "      \n",
              "  <style>\n",
              "    .colab-df-container {\n",
              "      display:flex;\n",
              "      flex-wrap:wrap;\n",
              "      gap: 12px;\n",
              "    }\n",
              "\n",
              "    .colab-df-convert {\n",
              "      background-color: #E8F0FE;\n",
              "      border: none;\n",
              "      border-radius: 50%;\n",
              "      cursor: pointer;\n",
              "      display: none;\n",
              "      fill: #1967D2;\n",
              "      height: 32px;\n",
              "      padding: 0 0 0 0;\n",
              "      width: 32px;\n",
              "    }\n",
              "\n",
              "    .colab-df-convert:hover {\n",
              "      background-color: #E2EBFA;\n",
              "      box-shadow: 0px 1px 2px rgba(60, 64, 67, 0.3), 0px 1px 3px 1px rgba(60, 64, 67, 0.15);\n",
              "      fill: #174EA6;\n",
              "    }\n",
              "\n",
              "    [theme=dark] .colab-df-convert {\n",
              "      background-color: #3B4455;\n",
              "      fill: #D2E3FC;\n",
              "    }\n",
              "\n",
              "    [theme=dark] .colab-df-convert:hover {\n",
              "      background-color: #434B5C;\n",
              "      box-shadow: 0px 1px 3px 1px rgba(0, 0, 0, 0.15);\n",
              "      filter: drop-shadow(0px 1px 2px rgba(0, 0, 0, 0.3));\n",
              "      fill: #FFFFFF;\n",
              "    }\n",
              "  </style>\n",
              "\n",
              "      <script>\n",
              "        const buttonEl =\n",
              "          document.querySelector('#df-57b771c8-2cd3-48eb-8489-bdec19570962 button.colab-df-convert');\n",
              "        buttonEl.style.display =\n",
              "          google.colab.kernel.accessAllowed ? 'block' : 'none';\n",
              "\n",
              "        async function convertToInteractive(key) {\n",
              "          const element = document.querySelector('#df-57b771c8-2cd3-48eb-8489-bdec19570962');\n",
              "          const dataTable =\n",
              "            await google.colab.kernel.invokeFunction('convertToInteractive',\n",
              "                                                     [key], {});\n",
              "          if (!dataTable) return;\n",
              "\n",
              "          const docLinkHtml = 'Like what you see? Visit the ' +\n",
              "            '<a target=\"_blank\" href=https://colab.research.google.com/notebooks/data_table.ipynb>data table notebook</a>'\n",
              "            + ' to learn more about interactive tables.';\n",
              "          element.innerHTML = '';\n",
              "          dataTable['output_type'] = 'display_data';\n",
              "          await google.colab.output.renderOutput(dataTable, element);\n",
              "          const docLink = document.createElement('div');\n",
              "          docLink.innerHTML = docLinkHtml;\n",
              "          element.appendChild(docLink);\n",
              "        }\n",
              "      </script>\n",
              "    </div>\n",
              "  </div>\n",
              "  "
            ]
          },
          "metadata": {},
          "execution_count": 32
        }
      ]
    },
    {
      "cell_type": "code",
      "source": [
        "dataframe_tweets_lula['Candidato'] = 'Lula'"
      ],
      "metadata": {
        "id": "ZMJ94DvZcN4c"
      },
      "execution_count": null,
      "outputs": []
    },
    {
      "cell_type": "code",
      "source": [
        "dataframe_tweets_lula.head()"
      ],
      "metadata": {
        "colab": {
          "base_uri": "https://localhost:8080/",
          "height": 206
        },
        "id": "elAKkqJ9ckTd",
        "outputId": "960fb673-e293-4e2b-b78e-373635da024f"
      },
      "execution_count": null,
      "outputs": [
        {
          "output_type": "execute_result",
          "data": {
            "text/plain": [
              "                  Data_Hora              IdTweet  \\\n",
              "0 2022-07-30 00:05:44+00:00  1553169938575249408   \n",
              "1 2022-07-30 00:05:44+00:00  1553169937178497025   \n",
              "2 2022-07-30 00:05:44+00:00  1553169937073594368   \n",
              "3 2022-07-30 00:05:43+00:00  1553169934947160065   \n",
              "4 2022-07-30 00:05:42+00:00  1553169932141187072   \n",
              "\n",
              "                                               Tweet Candidato  \n",
              "0   @CentralEleicoes Fora Bolsonaro. É Lula e Rafael      Lula  \n",
              "1  eu sonhei que conhecia o presidente lula (????...      Lula  \n",
              "2  @LulaOficial LADRÃO! EX-PRESIDIARIO! O inferno...      Lula  \n",
              "3  @jeongoocrf @bolsopiva @LulaOficial https://t....      Lula  \n",
              "4  @DMoreirq @FlavioBolsonaro @CevilerioCelso Des...      Lula  "
            ],
            "text/html": [
              "\n",
              "  <div id=\"df-ded49767-3719-4e93-816b-1263bacbf2a1\">\n",
              "    <div class=\"colab-df-container\">\n",
              "      <div>\n",
              "<style scoped>\n",
              "    .dataframe tbody tr th:only-of-type {\n",
              "        vertical-align: middle;\n",
              "    }\n",
              "\n",
              "    .dataframe tbody tr th {\n",
              "        vertical-align: top;\n",
              "    }\n",
              "\n",
              "    .dataframe thead th {\n",
              "        text-align: right;\n",
              "    }\n",
              "</style>\n",
              "<table border=\"1\" class=\"dataframe\">\n",
              "  <thead>\n",
              "    <tr style=\"text-align: right;\">\n",
              "      <th></th>\n",
              "      <th>Data_Hora</th>\n",
              "      <th>IdTweet</th>\n",
              "      <th>Tweet</th>\n",
              "      <th>Candidato</th>\n",
              "    </tr>\n",
              "  </thead>\n",
              "  <tbody>\n",
              "    <tr>\n",
              "      <th>0</th>\n",
              "      <td>2022-07-30 00:05:44+00:00</td>\n",
              "      <td>1553169938575249408</td>\n",
              "      <td>@CentralEleicoes Fora Bolsonaro. É Lula e Rafael</td>\n",
              "      <td>Lula</td>\n",
              "    </tr>\n",
              "    <tr>\n",
              "      <th>1</th>\n",
              "      <td>2022-07-30 00:05:44+00:00</td>\n",
              "      <td>1553169937178497025</td>\n",
              "      <td>eu sonhei que conhecia o presidente lula (????...</td>\n",
              "      <td>Lula</td>\n",
              "    </tr>\n",
              "    <tr>\n",
              "      <th>2</th>\n",
              "      <td>2022-07-30 00:05:44+00:00</td>\n",
              "      <td>1553169937073594368</td>\n",
              "      <td>@LulaOficial LADRÃO! EX-PRESIDIARIO! O inferno...</td>\n",
              "      <td>Lula</td>\n",
              "    </tr>\n",
              "    <tr>\n",
              "      <th>3</th>\n",
              "      <td>2022-07-30 00:05:43+00:00</td>\n",
              "      <td>1553169934947160065</td>\n",
              "      <td>@jeongoocrf @bolsopiva @LulaOficial https://t....</td>\n",
              "      <td>Lula</td>\n",
              "    </tr>\n",
              "    <tr>\n",
              "      <th>4</th>\n",
              "      <td>2022-07-30 00:05:42+00:00</td>\n",
              "      <td>1553169932141187072</td>\n",
              "      <td>@DMoreirq @FlavioBolsonaro @CevilerioCelso Des...</td>\n",
              "      <td>Lula</td>\n",
              "    </tr>\n",
              "  </tbody>\n",
              "</table>\n",
              "</div>\n",
              "      <button class=\"colab-df-convert\" onclick=\"convertToInteractive('df-ded49767-3719-4e93-816b-1263bacbf2a1')\"\n",
              "              title=\"Convert this dataframe to an interactive table.\"\n",
              "              style=\"display:none;\">\n",
              "        \n",
              "  <svg xmlns=\"http://www.w3.org/2000/svg\" height=\"24px\"viewBox=\"0 0 24 24\"\n",
              "       width=\"24px\">\n",
              "    <path d=\"M0 0h24v24H0V0z\" fill=\"none\"/>\n",
              "    <path d=\"M18.56 5.44l.94 2.06.94-2.06 2.06-.94-2.06-.94-.94-2.06-.94 2.06-2.06.94zm-11 1L8.5 8.5l.94-2.06 2.06-.94-2.06-.94L8.5 2.5l-.94 2.06-2.06.94zm10 10l.94 2.06.94-2.06 2.06-.94-2.06-.94-.94-2.06-.94 2.06-2.06.94z\"/><path d=\"M17.41 7.96l-1.37-1.37c-.4-.4-.92-.59-1.43-.59-.52 0-1.04.2-1.43.59L10.3 9.45l-7.72 7.72c-.78.78-.78 2.05 0 2.83L4 21.41c.39.39.9.59 1.41.59.51 0 1.02-.2 1.41-.59l7.78-7.78 2.81-2.81c.8-.78.8-2.07 0-2.86zM5.41 20L4 18.59l7.72-7.72 1.47 1.35L5.41 20z\"/>\n",
              "  </svg>\n",
              "      </button>\n",
              "      \n",
              "  <style>\n",
              "    .colab-df-container {\n",
              "      display:flex;\n",
              "      flex-wrap:wrap;\n",
              "      gap: 12px;\n",
              "    }\n",
              "\n",
              "    .colab-df-convert {\n",
              "      background-color: #E8F0FE;\n",
              "      border: none;\n",
              "      border-radius: 50%;\n",
              "      cursor: pointer;\n",
              "      display: none;\n",
              "      fill: #1967D2;\n",
              "      height: 32px;\n",
              "      padding: 0 0 0 0;\n",
              "      width: 32px;\n",
              "    }\n",
              "\n",
              "    .colab-df-convert:hover {\n",
              "      background-color: #E2EBFA;\n",
              "      box-shadow: 0px 1px 2px rgba(60, 64, 67, 0.3), 0px 1px 3px 1px rgba(60, 64, 67, 0.15);\n",
              "      fill: #174EA6;\n",
              "    }\n",
              "\n",
              "    [theme=dark] .colab-df-convert {\n",
              "      background-color: #3B4455;\n",
              "      fill: #D2E3FC;\n",
              "    }\n",
              "\n",
              "    [theme=dark] .colab-df-convert:hover {\n",
              "      background-color: #434B5C;\n",
              "      box-shadow: 0px 1px 3px 1px rgba(0, 0, 0, 0.15);\n",
              "      filter: drop-shadow(0px 1px 2px rgba(0, 0, 0, 0.3));\n",
              "      fill: #FFFFFF;\n",
              "    }\n",
              "  </style>\n",
              "\n",
              "      <script>\n",
              "        const buttonEl =\n",
              "          document.querySelector('#df-ded49767-3719-4e93-816b-1263bacbf2a1 button.colab-df-convert');\n",
              "        buttonEl.style.display =\n",
              "          google.colab.kernel.accessAllowed ? 'block' : 'none';\n",
              "\n",
              "        async function convertToInteractive(key) {\n",
              "          const element = document.querySelector('#df-ded49767-3719-4e93-816b-1263bacbf2a1');\n",
              "          const dataTable =\n",
              "            await google.colab.kernel.invokeFunction('convertToInteractive',\n",
              "                                                     [key], {});\n",
              "          if (!dataTable) return;\n",
              "\n",
              "          const docLinkHtml = 'Like what you see? Visit the ' +\n",
              "            '<a target=\"_blank\" href=https://colab.research.google.com/notebooks/data_table.ipynb>data table notebook</a>'\n",
              "            + ' to learn more about interactive tables.';\n",
              "          element.innerHTML = '';\n",
              "          dataTable['output_type'] = 'display_data';\n",
              "          await google.colab.output.renderOutput(dataTable, element);\n",
              "          const docLink = document.createElement('div');\n",
              "          docLink.innerHTML = docLinkHtml;\n",
              "          element.appendChild(docLink);\n",
              "        }\n",
              "      </script>\n",
              "    </div>\n",
              "  </div>\n",
              "  "
            ]
          },
          "metadata": {},
          "execution_count": 34
        }
      ]
    },
    {
      "cell_type": "markdown",
      "source": [
        "### Bolsonaro"
      ],
      "metadata": {
        "id": "g-d4VvIscnXj"
      }
    },
    {
      "cell_type": "code",
      "source": [
        "lista_de_tweets_bolsonaro = []"
      ],
      "metadata": {
        "id": "uytjiAFOclVn"
      },
      "execution_count": null,
      "outputs": []
    },
    {
      "cell_type": "code",
      "source": [
        "for i, tweet in enumerate(sntwitter.TwitterSearchScraper(['bolsonaro']).get_items()):\n",
        "  if i > maximo_de_tweets:\n",
        "    break\n",
        "  lista_de_tweets_bolsonaro.append([tweet.date, tweet.id, tweet.content])"
      ],
      "metadata": {
        "id": "Mu0VX4MOcws9"
      },
      "execution_count": null,
      "outputs": []
    },
    {
      "cell_type": "code",
      "source": [
        "dataframe_tweets_bolsonaro = pd.DataFrame(lista_de_tweets_bolsonaro, columns=['Data_Hora', 'IdTweet', 'Tweet'])"
      ],
      "metadata": {
        "id": "iHTcncnkdyq9"
      },
      "execution_count": null,
      "outputs": []
    },
    {
      "cell_type": "code",
      "source": [
        "dataframe_tweets_bolsonaro.head()"
      ],
      "metadata": {
        "colab": {
          "base_uri": "https://localhost:8080/",
          "height": 206
        },
        "id": "P4N-HJ9Bd4zj",
        "outputId": "f16bb5a1-5bfe-4a16-c53b-97d6be1c5ff7"
      },
      "execution_count": null,
      "outputs": [
        {
          "output_type": "execute_result",
          "data": {
            "text/plain": [
              "                  Data_Hora              IdTweet  \\\n",
              "0 2022-07-30 00:13:31+00:00  1553171895226597376   \n",
              "1 2022-07-30 00:13:30+00:00  1553171894454685696   \n",
              "2 2022-07-30 00:13:29+00:00  1553171886934302720   \n",
              "3 2022-07-30 00:13:28+00:00  1553171886489624577   \n",
              "4 2022-07-30 00:13:28+00:00  1553171885931855872   \n",
              "\n",
              "                                               Tweet  \n",
              "0  Mais uma vez que o Bolsonaro estava certo. htt...  \n",
              "1  @jairbolsonaro Quanto mais políticos se juntam...  \n",
              "2  O stf causa isso qdo os partidos de oposiçâo q...  \n",
              "3  @wqdc1997 @monicabergamo Por nós, os milhões q...  \n",
              "4  @artevillar1 Aceita, faz uma caricatura do Bol...  "
            ],
            "text/html": [
              "\n",
              "  <div id=\"df-1f35ad73-0ad0-462e-bda9-41d6c012d1d9\">\n",
              "    <div class=\"colab-df-container\">\n",
              "      <div>\n",
              "<style scoped>\n",
              "    .dataframe tbody tr th:only-of-type {\n",
              "        vertical-align: middle;\n",
              "    }\n",
              "\n",
              "    .dataframe tbody tr th {\n",
              "        vertical-align: top;\n",
              "    }\n",
              "\n",
              "    .dataframe thead th {\n",
              "        text-align: right;\n",
              "    }\n",
              "</style>\n",
              "<table border=\"1\" class=\"dataframe\">\n",
              "  <thead>\n",
              "    <tr style=\"text-align: right;\">\n",
              "      <th></th>\n",
              "      <th>Data_Hora</th>\n",
              "      <th>IdTweet</th>\n",
              "      <th>Tweet</th>\n",
              "    </tr>\n",
              "  </thead>\n",
              "  <tbody>\n",
              "    <tr>\n",
              "      <th>0</th>\n",
              "      <td>2022-07-30 00:13:31+00:00</td>\n",
              "      <td>1553171895226597376</td>\n",
              "      <td>Mais uma vez que o Bolsonaro estava certo. htt...</td>\n",
              "    </tr>\n",
              "    <tr>\n",
              "      <th>1</th>\n",
              "      <td>2022-07-30 00:13:30+00:00</td>\n",
              "      <td>1553171894454685696</td>\n",
              "      <td>@jairbolsonaro Quanto mais políticos se juntam...</td>\n",
              "    </tr>\n",
              "    <tr>\n",
              "      <th>2</th>\n",
              "      <td>2022-07-30 00:13:29+00:00</td>\n",
              "      <td>1553171886934302720</td>\n",
              "      <td>O stf causa isso qdo os partidos de oposiçâo q...</td>\n",
              "    </tr>\n",
              "    <tr>\n",
              "      <th>3</th>\n",
              "      <td>2022-07-30 00:13:28+00:00</td>\n",
              "      <td>1553171886489624577</td>\n",
              "      <td>@wqdc1997 @monicabergamo Por nós, os milhões q...</td>\n",
              "    </tr>\n",
              "    <tr>\n",
              "      <th>4</th>\n",
              "      <td>2022-07-30 00:13:28+00:00</td>\n",
              "      <td>1553171885931855872</td>\n",
              "      <td>@artevillar1 Aceita, faz uma caricatura do Bol...</td>\n",
              "    </tr>\n",
              "  </tbody>\n",
              "</table>\n",
              "</div>\n",
              "      <button class=\"colab-df-convert\" onclick=\"convertToInteractive('df-1f35ad73-0ad0-462e-bda9-41d6c012d1d9')\"\n",
              "              title=\"Convert this dataframe to an interactive table.\"\n",
              "              style=\"display:none;\">\n",
              "        \n",
              "  <svg xmlns=\"http://www.w3.org/2000/svg\" height=\"24px\"viewBox=\"0 0 24 24\"\n",
              "       width=\"24px\">\n",
              "    <path d=\"M0 0h24v24H0V0z\" fill=\"none\"/>\n",
              "    <path d=\"M18.56 5.44l.94 2.06.94-2.06 2.06-.94-2.06-.94-.94-2.06-.94 2.06-2.06.94zm-11 1L8.5 8.5l.94-2.06 2.06-.94-2.06-.94L8.5 2.5l-.94 2.06-2.06.94zm10 10l.94 2.06.94-2.06 2.06-.94-2.06-.94-.94-2.06-.94 2.06-2.06.94z\"/><path d=\"M17.41 7.96l-1.37-1.37c-.4-.4-.92-.59-1.43-.59-.52 0-1.04.2-1.43.59L10.3 9.45l-7.72 7.72c-.78.78-.78 2.05 0 2.83L4 21.41c.39.39.9.59 1.41.59.51 0 1.02-.2 1.41-.59l7.78-7.78 2.81-2.81c.8-.78.8-2.07 0-2.86zM5.41 20L4 18.59l7.72-7.72 1.47 1.35L5.41 20z\"/>\n",
              "  </svg>\n",
              "      </button>\n",
              "      \n",
              "  <style>\n",
              "    .colab-df-container {\n",
              "      display:flex;\n",
              "      flex-wrap:wrap;\n",
              "      gap: 12px;\n",
              "    }\n",
              "\n",
              "    .colab-df-convert {\n",
              "      background-color: #E8F0FE;\n",
              "      border: none;\n",
              "      border-radius: 50%;\n",
              "      cursor: pointer;\n",
              "      display: none;\n",
              "      fill: #1967D2;\n",
              "      height: 32px;\n",
              "      padding: 0 0 0 0;\n",
              "      width: 32px;\n",
              "    }\n",
              "\n",
              "    .colab-df-convert:hover {\n",
              "      background-color: #E2EBFA;\n",
              "      box-shadow: 0px 1px 2px rgba(60, 64, 67, 0.3), 0px 1px 3px 1px rgba(60, 64, 67, 0.15);\n",
              "      fill: #174EA6;\n",
              "    }\n",
              "\n",
              "    [theme=dark] .colab-df-convert {\n",
              "      background-color: #3B4455;\n",
              "      fill: #D2E3FC;\n",
              "    }\n",
              "\n",
              "    [theme=dark] .colab-df-convert:hover {\n",
              "      background-color: #434B5C;\n",
              "      box-shadow: 0px 1px 3px 1px rgba(0, 0, 0, 0.15);\n",
              "      filter: drop-shadow(0px 1px 2px rgba(0, 0, 0, 0.3));\n",
              "      fill: #FFFFFF;\n",
              "    }\n",
              "  </style>\n",
              "\n",
              "      <script>\n",
              "        const buttonEl =\n",
              "          document.querySelector('#df-1f35ad73-0ad0-462e-bda9-41d6c012d1d9 button.colab-df-convert');\n",
              "        buttonEl.style.display =\n",
              "          google.colab.kernel.accessAllowed ? 'block' : 'none';\n",
              "\n",
              "        async function convertToInteractive(key) {\n",
              "          const element = document.querySelector('#df-1f35ad73-0ad0-462e-bda9-41d6c012d1d9');\n",
              "          const dataTable =\n",
              "            await google.colab.kernel.invokeFunction('convertToInteractive',\n",
              "                                                     [key], {});\n",
              "          if (!dataTable) return;\n",
              "\n",
              "          const docLinkHtml = 'Like what you see? Visit the ' +\n",
              "            '<a target=\"_blank\" href=https://colab.research.google.com/notebooks/data_table.ipynb>data table notebook</a>'\n",
              "            + ' to learn more about interactive tables.';\n",
              "          element.innerHTML = '';\n",
              "          dataTable['output_type'] = 'display_data';\n",
              "          await google.colab.output.renderOutput(dataTable, element);\n",
              "          const docLink = document.createElement('div');\n",
              "          docLink.innerHTML = docLinkHtml;\n",
              "          element.appendChild(docLink);\n",
              "        }\n",
              "      </script>\n",
              "    </div>\n",
              "  </div>\n",
              "  "
            ]
          },
          "metadata": {},
          "execution_count": 39
        }
      ]
    },
    {
      "cell_type": "code",
      "source": [
        "dataframe_tweets_bolsonaro['Candidato'] = 'Bolsonaro'"
      ],
      "metadata": {
        "id": "Fup0CeLad6I9"
      },
      "execution_count": null,
      "outputs": []
    },
    {
      "cell_type": "code",
      "source": [
        "dataframe_tweets_bolsonaro.head()"
      ],
      "metadata": {
        "colab": {
          "base_uri": "https://localhost:8080/",
          "height": 206
        },
        "id": "iyvcPiFUeByK",
        "outputId": "93e644fb-058b-4ebd-aaea-9e3dbc9edc4e"
      },
      "execution_count": null,
      "outputs": [
        {
          "output_type": "execute_result",
          "data": {
            "text/plain": [
              "                  Data_Hora              IdTweet  \\\n",
              "0 2022-07-30 00:13:31+00:00  1553171895226597376   \n",
              "1 2022-07-30 00:13:30+00:00  1553171894454685696   \n",
              "2 2022-07-30 00:13:29+00:00  1553171886934302720   \n",
              "3 2022-07-30 00:13:28+00:00  1553171886489624577   \n",
              "4 2022-07-30 00:13:28+00:00  1553171885931855872   \n",
              "\n",
              "                                               Tweet  Candidato  \n",
              "0  Mais uma vez que o Bolsonaro estava certo. htt...  Bolsonaro  \n",
              "1  @jairbolsonaro Quanto mais políticos se juntam...  Bolsonaro  \n",
              "2  O stf causa isso qdo os partidos de oposiçâo q...  Bolsonaro  \n",
              "3  @wqdc1997 @monicabergamo Por nós, os milhões q...  Bolsonaro  \n",
              "4  @artevillar1 Aceita, faz uma caricatura do Bol...  Bolsonaro  "
            ],
            "text/html": [
              "\n",
              "  <div id=\"df-df2cf2a2-7dfd-442c-995b-6e8aa869467f\">\n",
              "    <div class=\"colab-df-container\">\n",
              "      <div>\n",
              "<style scoped>\n",
              "    .dataframe tbody tr th:only-of-type {\n",
              "        vertical-align: middle;\n",
              "    }\n",
              "\n",
              "    .dataframe tbody tr th {\n",
              "        vertical-align: top;\n",
              "    }\n",
              "\n",
              "    .dataframe thead th {\n",
              "        text-align: right;\n",
              "    }\n",
              "</style>\n",
              "<table border=\"1\" class=\"dataframe\">\n",
              "  <thead>\n",
              "    <tr style=\"text-align: right;\">\n",
              "      <th></th>\n",
              "      <th>Data_Hora</th>\n",
              "      <th>IdTweet</th>\n",
              "      <th>Tweet</th>\n",
              "      <th>Candidato</th>\n",
              "    </tr>\n",
              "  </thead>\n",
              "  <tbody>\n",
              "    <tr>\n",
              "      <th>0</th>\n",
              "      <td>2022-07-30 00:13:31+00:00</td>\n",
              "      <td>1553171895226597376</td>\n",
              "      <td>Mais uma vez que o Bolsonaro estava certo. htt...</td>\n",
              "      <td>Bolsonaro</td>\n",
              "    </tr>\n",
              "    <tr>\n",
              "      <th>1</th>\n",
              "      <td>2022-07-30 00:13:30+00:00</td>\n",
              "      <td>1553171894454685696</td>\n",
              "      <td>@jairbolsonaro Quanto mais políticos se juntam...</td>\n",
              "      <td>Bolsonaro</td>\n",
              "    </tr>\n",
              "    <tr>\n",
              "      <th>2</th>\n",
              "      <td>2022-07-30 00:13:29+00:00</td>\n",
              "      <td>1553171886934302720</td>\n",
              "      <td>O stf causa isso qdo os partidos de oposiçâo q...</td>\n",
              "      <td>Bolsonaro</td>\n",
              "    </tr>\n",
              "    <tr>\n",
              "      <th>3</th>\n",
              "      <td>2022-07-30 00:13:28+00:00</td>\n",
              "      <td>1553171886489624577</td>\n",
              "      <td>@wqdc1997 @monicabergamo Por nós, os milhões q...</td>\n",
              "      <td>Bolsonaro</td>\n",
              "    </tr>\n",
              "    <tr>\n",
              "      <th>4</th>\n",
              "      <td>2022-07-30 00:13:28+00:00</td>\n",
              "      <td>1553171885931855872</td>\n",
              "      <td>@artevillar1 Aceita, faz uma caricatura do Bol...</td>\n",
              "      <td>Bolsonaro</td>\n",
              "    </tr>\n",
              "  </tbody>\n",
              "</table>\n",
              "</div>\n",
              "      <button class=\"colab-df-convert\" onclick=\"convertToInteractive('df-df2cf2a2-7dfd-442c-995b-6e8aa869467f')\"\n",
              "              title=\"Convert this dataframe to an interactive table.\"\n",
              "              style=\"display:none;\">\n",
              "        \n",
              "  <svg xmlns=\"http://www.w3.org/2000/svg\" height=\"24px\"viewBox=\"0 0 24 24\"\n",
              "       width=\"24px\">\n",
              "    <path d=\"M0 0h24v24H0V0z\" fill=\"none\"/>\n",
              "    <path d=\"M18.56 5.44l.94 2.06.94-2.06 2.06-.94-2.06-.94-.94-2.06-.94 2.06-2.06.94zm-11 1L8.5 8.5l.94-2.06 2.06-.94-2.06-.94L8.5 2.5l-.94 2.06-2.06.94zm10 10l.94 2.06.94-2.06 2.06-.94-2.06-.94-.94-2.06-.94 2.06-2.06.94z\"/><path d=\"M17.41 7.96l-1.37-1.37c-.4-.4-.92-.59-1.43-.59-.52 0-1.04.2-1.43.59L10.3 9.45l-7.72 7.72c-.78.78-.78 2.05 0 2.83L4 21.41c.39.39.9.59 1.41.59.51 0 1.02-.2 1.41-.59l7.78-7.78 2.81-2.81c.8-.78.8-2.07 0-2.86zM5.41 20L4 18.59l7.72-7.72 1.47 1.35L5.41 20z\"/>\n",
              "  </svg>\n",
              "      </button>\n",
              "      \n",
              "  <style>\n",
              "    .colab-df-container {\n",
              "      display:flex;\n",
              "      flex-wrap:wrap;\n",
              "      gap: 12px;\n",
              "    }\n",
              "\n",
              "    .colab-df-convert {\n",
              "      background-color: #E8F0FE;\n",
              "      border: none;\n",
              "      border-radius: 50%;\n",
              "      cursor: pointer;\n",
              "      display: none;\n",
              "      fill: #1967D2;\n",
              "      height: 32px;\n",
              "      padding: 0 0 0 0;\n",
              "      width: 32px;\n",
              "    }\n",
              "\n",
              "    .colab-df-convert:hover {\n",
              "      background-color: #E2EBFA;\n",
              "      box-shadow: 0px 1px 2px rgba(60, 64, 67, 0.3), 0px 1px 3px 1px rgba(60, 64, 67, 0.15);\n",
              "      fill: #174EA6;\n",
              "    }\n",
              "\n",
              "    [theme=dark] .colab-df-convert {\n",
              "      background-color: #3B4455;\n",
              "      fill: #D2E3FC;\n",
              "    }\n",
              "\n",
              "    [theme=dark] .colab-df-convert:hover {\n",
              "      background-color: #434B5C;\n",
              "      box-shadow: 0px 1px 3px 1px rgba(0, 0, 0, 0.15);\n",
              "      filter: drop-shadow(0px 1px 2px rgba(0, 0, 0, 0.3));\n",
              "      fill: #FFFFFF;\n",
              "    }\n",
              "  </style>\n",
              "\n",
              "      <script>\n",
              "        const buttonEl =\n",
              "          document.querySelector('#df-df2cf2a2-7dfd-442c-995b-6e8aa869467f button.colab-df-convert');\n",
              "        buttonEl.style.display =\n",
              "          google.colab.kernel.accessAllowed ? 'block' : 'none';\n",
              "\n",
              "        async function convertToInteractive(key) {\n",
              "          const element = document.querySelector('#df-df2cf2a2-7dfd-442c-995b-6e8aa869467f');\n",
              "          const dataTable =\n",
              "            await google.colab.kernel.invokeFunction('convertToInteractive',\n",
              "                                                     [key], {});\n",
              "          if (!dataTable) return;\n",
              "\n",
              "          const docLinkHtml = 'Like what you see? Visit the ' +\n",
              "            '<a target=\"_blank\" href=https://colab.research.google.com/notebooks/data_table.ipynb>data table notebook</a>'\n",
              "            + ' to learn more about interactive tables.';\n",
              "          element.innerHTML = '';\n",
              "          dataTable['output_type'] = 'display_data';\n",
              "          await google.colab.output.renderOutput(dataTable, element);\n",
              "          const docLink = document.createElement('div');\n",
              "          docLink.innerHTML = docLinkHtml;\n",
              "          element.appendChild(docLink);\n",
              "        }\n",
              "      </script>\n",
              "    </div>\n",
              "  </div>\n",
              "  "
            ]
          },
          "metadata": {},
          "execution_count": 41
        }
      ]
    },
    {
      "cell_type": "markdown",
      "source": [
        "#### Ciro Gomes"
      ],
      "metadata": {
        "id": "L3Ev4wfQeONr"
      }
    },
    {
      "cell_type": "code",
      "source": [
        "lista_de_tweets_ciro = []"
      ],
      "metadata": {
        "id": "1kKTJI7geDI9"
      },
      "execution_count": null,
      "outputs": []
    },
    {
      "cell_type": "code",
      "source": [
        "for i, tweet in enumerate(sntwitter.TwitterSearchScraper(['ciro gomes']).get_items()):\n",
        "  if i > maximo_de_tweets:\n",
        "    break\n",
        "  lista_de_tweets_ciro.append([tweet.date, tweet.id, tweet.content])"
      ],
      "metadata": {
        "id": "lRAbzAzgeUcr"
      },
      "execution_count": null,
      "outputs": []
    },
    {
      "cell_type": "code",
      "source": [
        "dataframe_tweets_ciro = pd.DataFrame(lista_de_tweets_ciro, columns=['Data_Hora', 'IdTweet', 'Tweet'])"
      ],
      "metadata": {
        "id": "RfKgpAFzeja4"
      },
      "execution_count": null,
      "outputs": []
    },
    {
      "cell_type": "code",
      "source": [
        "dataframe_tweets_ciro.head()"
      ],
      "metadata": {
        "colab": {
          "base_uri": "https://localhost:8080/",
          "height": 206
        },
        "id": "kml3rvYperLc",
        "outputId": "66995f23-3057-499a-a53e-569155f9a678"
      },
      "execution_count": null,
      "outputs": [
        {
          "output_type": "execute_result",
          "data": {
            "text/plain": [
              "                  Data_Hora              IdTweet  \\\n",
              "0 2022-07-30 00:20:40+00:00  1553173696059265024   \n",
              "1 2022-07-30 00:20:39+00:00  1553173691260981248   \n",
              "2 2022-07-30 00:20:37+00:00  1553173685892268032   \n",
              "3 2022-07-30 00:20:32+00:00  1553173662060216326   \n",
              "4 2022-07-30 00:20:22+00:00  1553173620683407360   \n",
              "\n",
              "                                               Tweet  \n",
              "0  A petezada compartilhando alucinadamente a fak...  \n",
              "1  Quem diz que algum dia votou em @cirogomes e a...  \n",
              "2  @esquerda13_ Esquece isso. 🤣🤣🤣 O próximo presi...  \n",
              "3  @cirogomes Lixo total!! Me arrependo de um dia...  \n",
              "4          @EmersonAnomia @cirogomes #voudeciromesmo  "
            ],
            "text/html": [
              "\n",
              "  <div id=\"df-23879039-17ae-4734-9f1d-681e83891bf3\">\n",
              "    <div class=\"colab-df-container\">\n",
              "      <div>\n",
              "<style scoped>\n",
              "    .dataframe tbody tr th:only-of-type {\n",
              "        vertical-align: middle;\n",
              "    }\n",
              "\n",
              "    .dataframe tbody tr th {\n",
              "        vertical-align: top;\n",
              "    }\n",
              "\n",
              "    .dataframe thead th {\n",
              "        text-align: right;\n",
              "    }\n",
              "</style>\n",
              "<table border=\"1\" class=\"dataframe\">\n",
              "  <thead>\n",
              "    <tr style=\"text-align: right;\">\n",
              "      <th></th>\n",
              "      <th>Data_Hora</th>\n",
              "      <th>IdTweet</th>\n",
              "      <th>Tweet</th>\n",
              "    </tr>\n",
              "  </thead>\n",
              "  <tbody>\n",
              "    <tr>\n",
              "      <th>0</th>\n",
              "      <td>2022-07-30 00:20:40+00:00</td>\n",
              "      <td>1553173696059265024</td>\n",
              "      <td>A petezada compartilhando alucinadamente a fak...</td>\n",
              "    </tr>\n",
              "    <tr>\n",
              "      <th>1</th>\n",
              "      <td>2022-07-30 00:20:39+00:00</td>\n",
              "      <td>1553173691260981248</td>\n",
              "      <td>Quem diz que algum dia votou em @cirogomes e a...</td>\n",
              "    </tr>\n",
              "    <tr>\n",
              "      <th>2</th>\n",
              "      <td>2022-07-30 00:20:37+00:00</td>\n",
              "      <td>1553173685892268032</td>\n",
              "      <td>@esquerda13_ Esquece isso. 🤣🤣🤣 O próximo presi...</td>\n",
              "    </tr>\n",
              "    <tr>\n",
              "      <th>3</th>\n",
              "      <td>2022-07-30 00:20:32+00:00</td>\n",
              "      <td>1553173662060216326</td>\n",
              "      <td>@cirogomes Lixo total!! Me arrependo de um dia...</td>\n",
              "    </tr>\n",
              "    <tr>\n",
              "      <th>4</th>\n",
              "      <td>2022-07-30 00:20:22+00:00</td>\n",
              "      <td>1553173620683407360</td>\n",
              "      <td>@EmersonAnomia @cirogomes #voudeciromesmo</td>\n",
              "    </tr>\n",
              "  </tbody>\n",
              "</table>\n",
              "</div>\n",
              "      <button class=\"colab-df-convert\" onclick=\"convertToInteractive('df-23879039-17ae-4734-9f1d-681e83891bf3')\"\n",
              "              title=\"Convert this dataframe to an interactive table.\"\n",
              "              style=\"display:none;\">\n",
              "        \n",
              "  <svg xmlns=\"http://www.w3.org/2000/svg\" height=\"24px\"viewBox=\"0 0 24 24\"\n",
              "       width=\"24px\">\n",
              "    <path d=\"M0 0h24v24H0V0z\" fill=\"none\"/>\n",
              "    <path d=\"M18.56 5.44l.94 2.06.94-2.06 2.06-.94-2.06-.94-.94-2.06-.94 2.06-2.06.94zm-11 1L8.5 8.5l.94-2.06 2.06-.94-2.06-.94L8.5 2.5l-.94 2.06-2.06.94zm10 10l.94 2.06.94-2.06 2.06-.94-2.06-.94-.94-2.06-.94 2.06-2.06.94z\"/><path d=\"M17.41 7.96l-1.37-1.37c-.4-.4-.92-.59-1.43-.59-.52 0-1.04.2-1.43.59L10.3 9.45l-7.72 7.72c-.78.78-.78 2.05 0 2.83L4 21.41c.39.39.9.59 1.41.59.51 0 1.02-.2 1.41-.59l7.78-7.78 2.81-2.81c.8-.78.8-2.07 0-2.86zM5.41 20L4 18.59l7.72-7.72 1.47 1.35L5.41 20z\"/>\n",
              "  </svg>\n",
              "      </button>\n",
              "      \n",
              "  <style>\n",
              "    .colab-df-container {\n",
              "      display:flex;\n",
              "      flex-wrap:wrap;\n",
              "      gap: 12px;\n",
              "    }\n",
              "\n",
              "    .colab-df-convert {\n",
              "      background-color: #E8F0FE;\n",
              "      border: none;\n",
              "      border-radius: 50%;\n",
              "      cursor: pointer;\n",
              "      display: none;\n",
              "      fill: #1967D2;\n",
              "      height: 32px;\n",
              "      padding: 0 0 0 0;\n",
              "      width: 32px;\n",
              "    }\n",
              "\n",
              "    .colab-df-convert:hover {\n",
              "      background-color: #E2EBFA;\n",
              "      box-shadow: 0px 1px 2px rgba(60, 64, 67, 0.3), 0px 1px 3px 1px rgba(60, 64, 67, 0.15);\n",
              "      fill: #174EA6;\n",
              "    }\n",
              "\n",
              "    [theme=dark] .colab-df-convert {\n",
              "      background-color: #3B4455;\n",
              "      fill: #D2E3FC;\n",
              "    }\n",
              "\n",
              "    [theme=dark] .colab-df-convert:hover {\n",
              "      background-color: #434B5C;\n",
              "      box-shadow: 0px 1px 3px 1px rgba(0, 0, 0, 0.15);\n",
              "      filter: drop-shadow(0px 1px 2px rgba(0, 0, 0, 0.3));\n",
              "      fill: #FFFFFF;\n",
              "    }\n",
              "  </style>\n",
              "\n",
              "      <script>\n",
              "        const buttonEl =\n",
              "          document.querySelector('#df-23879039-17ae-4734-9f1d-681e83891bf3 button.colab-df-convert');\n",
              "        buttonEl.style.display =\n",
              "          google.colab.kernel.accessAllowed ? 'block' : 'none';\n",
              "\n",
              "        async function convertToInteractive(key) {\n",
              "          const element = document.querySelector('#df-23879039-17ae-4734-9f1d-681e83891bf3');\n",
              "          const dataTable =\n",
              "            await google.colab.kernel.invokeFunction('convertToInteractive',\n",
              "                                                     [key], {});\n",
              "          if (!dataTable) return;\n",
              "\n",
              "          const docLinkHtml = 'Like what you see? Visit the ' +\n",
              "            '<a target=\"_blank\" href=https://colab.research.google.com/notebooks/data_table.ipynb>data table notebook</a>'\n",
              "            + ' to learn more about interactive tables.';\n",
              "          element.innerHTML = '';\n",
              "          dataTable['output_type'] = 'display_data';\n",
              "          await google.colab.output.renderOutput(dataTable, element);\n",
              "          const docLink = document.createElement('div');\n",
              "          docLink.innerHTML = docLinkHtml;\n",
              "          element.appendChild(docLink);\n",
              "        }\n",
              "      </script>\n",
              "    </div>\n",
              "  </div>\n",
              "  "
            ]
          },
          "metadata": {},
          "execution_count": 51
        }
      ]
    },
    {
      "cell_type": "code",
      "source": [
        "dataframe_tweets_ciro['Candidato'] = 'Ciro Gomes'"
      ],
      "metadata": {
        "id": "CxwWG21letsA"
      },
      "execution_count": null,
      "outputs": []
    },
    {
      "cell_type": "code",
      "source": [
        "dataframe_tweets_ciro.head()"
      ],
      "metadata": {
        "colab": {
          "base_uri": "https://localhost:8080/",
          "height": 206
        },
        "id": "viGNcBlEe33Q",
        "outputId": "1ca85ba8-052c-48ba-faa1-42c49a292813"
      },
      "execution_count": null,
      "outputs": [
        {
          "output_type": "execute_result",
          "data": {
            "text/plain": [
              "                  Data_Hora              IdTweet  \\\n",
              "0 2022-07-30 00:20:40+00:00  1553173696059265024   \n",
              "1 2022-07-30 00:20:39+00:00  1553173691260981248   \n",
              "2 2022-07-30 00:20:37+00:00  1553173685892268032   \n",
              "3 2022-07-30 00:20:32+00:00  1553173662060216326   \n",
              "4 2022-07-30 00:20:22+00:00  1553173620683407360   \n",
              "\n",
              "                                               Tweet   Candidato  \n",
              "0  A petezada compartilhando alucinadamente a fak...  Ciro Gomes  \n",
              "1  Quem diz que algum dia votou em @cirogomes e a...  Ciro Gomes  \n",
              "2  @esquerda13_ Esquece isso. 🤣🤣🤣 O próximo presi...  Ciro Gomes  \n",
              "3  @cirogomes Lixo total!! Me arrependo de um dia...  Ciro Gomes  \n",
              "4          @EmersonAnomia @cirogomes #voudeciromesmo  Ciro Gomes  "
            ],
            "text/html": [
              "\n",
              "  <div id=\"df-7b10c9c3-b3bf-4e90-b84e-59daca5413dd\">\n",
              "    <div class=\"colab-df-container\">\n",
              "      <div>\n",
              "<style scoped>\n",
              "    .dataframe tbody tr th:only-of-type {\n",
              "        vertical-align: middle;\n",
              "    }\n",
              "\n",
              "    .dataframe tbody tr th {\n",
              "        vertical-align: top;\n",
              "    }\n",
              "\n",
              "    .dataframe thead th {\n",
              "        text-align: right;\n",
              "    }\n",
              "</style>\n",
              "<table border=\"1\" class=\"dataframe\">\n",
              "  <thead>\n",
              "    <tr style=\"text-align: right;\">\n",
              "      <th></th>\n",
              "      <th>Data_Hora</th>\n",
              "      <th>IdTweet</th>\n",
              "      <th>Tweet</th>\n",
              "      <th>Candidato</th>\n",
              "    </tr>\n",
              "  </thead>\n",
              "  <tbody>\n",
              "    <tr>\n",
              "      <th>0</th>\n",
              "      <td>2022-07-30 00:20:40+00:00</td>\n",
              "      <td>1553173696059265024</td>\n",
              "      <td>A petezada compartilhando alucinadamente a fak...</td>\n",
              "      <td>Ciro Gomes</td>\n",
              "    </tr>\n",
              "    <tr>\n",
              "      <th>1</th>\n",
              "      <td>2022-07-30 00:20:39+00:00</td>\n",
              "      <td>1553173691260981248</td>\n",
              "      <td>Quem diz que algum dia votou em @cirogomes e a...</td>\n",
              "      <td>Ciro Gomes</td>\n",
              "    </tr>\n",
              "    <tr>\n",
              "      <th>2</th>\n",
              "      <td>2022-07-30 00:20:37+00:00</td>\n",
              "      <td>1553173685892268032</td>\n",
              "      <td>@esquerda13_ Esquece isso. 🤣🤣🤣 O próximo presi...</td>\n",
              "      <td>Ciro Gomes</td>\n",
              "    </tr>\n",
              "    <tr>\n",
              "      <th>3</th>\n",
              "      <td>2022-07-30 00:20:32+00:00</td>\n",
              "      <td>1553173662060216326</td>\n",
              "      <td>@cirogomes Lixo total!! Me arrependo de um dia...</td>\n",
              "      <td>Ciro Gomes</td>\n",
              "    </tr>\n",
              "    <tr>\n",
              "      <th>4</th>\n",
              "      <td>2022-07-30 00:20:22+00:00</td>\n",
              "      <td>1553173620683407360</td>\n",
              "      <td>@EmersonAnomia @cirogomes #voudeciromesmo</td>\n",
              "      <td>Ciro Gomes</td>\n",
              "    </tr>\n",
              "  </tbody>\n",
              "</table>\n",
              "</div>\n",
              "      <button class=\"colab-df-convert\" onclick=\"convertToInteractive('df-7b10c9c3-b3bf-4e90-b84e-59daca5413dd')\"\n",
              "              title=\"Convert this dataframe to an interactive table.\"\n",
              "              style=\"display:none;\">\n",
              "        \n",
              "  <svg xmlns=\"http://www.w3.org/2000/svg\" height=\"24px\"viewBox=\"0 0 24 24\"\n",
              "       width=\"24px\">\n",
              "    <path d=\"M0 0h24v24H0V0z\" fill=\"none\"/>\n",
              "    <path d=\"M18.56 5.44l.94 2.06.94-2.06 2.06-.94-2.06-.94-.94-2.06-.94 2.06-2.06.94zm-11 1L8.5 8.5l.94-2.06 2.06-.94-2.06-.94L8.5 2.5l-.94 2.06-2.06.94zm10 10l.94 2.06.94-2.06 2.06-.94-2.06-.94-.94-2.06-.94 2.06-2.06.94z\"/><path d=\"M17.41 7.96l-1.37-1.37c-.4-.4-.92-.59-1.43-.59-.52 0-1.04.2-1.43.59L10.3 9.45l-7.72 7.72c-.78.78-.78 2.05 0 2.83L4 21.41c.39.39.9.59 1.41.59.51 0 1.02-.2 1.41-.59l7.78-7.78 2.81-2.81c.8-.78.8-2.07 0-2.86zM5.41 20L4 18.59l7.72-7.72 1.47 1.35L5.41 20z\"/>\n",
              "  </svg>\n",
              "      </button>\n",
              "      \n",
              "  <style>\n",
              "    .colab-df-container {\n",
              "      display:flex;\n",
              "      flex-wrap:wrap;\n",
              "      gap: 12px;\n",
              "    }\n",
              "\n",
              "    .colab-df-convert {\n",
              "      background-color: #E8F0FE;\n",
              "      border: none;\n",
              "      border-radius: 50%;\n",
              "      cursor: pointer;\n",
              "      display: none;\n",
              "      fill: #1967D2;\n",
              "      height: 32px;\n",
              "      padding: 0 0 0 0;\n",
              "      width: 32px;\n",
              "    }\n",
              "\n",
              "    .colab-df-convert:hover {\n",
              "      background-color: #E2EBFA;\n",
              "      box-shadow: 0px 1px 2px rgba(60, 64, 67, 0.3), 0px 1px 3px 1px rgba(60, 64, 67, 0.15);\n",
              "      fill: #174EA6;\n",
              "    }\n",
              "\n",
              "    [theme=dark] .colab-df-convert {\n",
              "      background-color: #3B4455;\n",
              "      fill: #D2E3FC;\n",
              "    }\n",
              "\n",
              "    [theme=dark] .colab-df-convert:hover {\n",
              "      background-color: #434B5C;\n",
              "      box-shadow: 0px 1px 3px 1px rgba(0, 0, 0, 0.15);\n",
              "      filter: drop-shadow(0px 1px 2px rgba(0, 0, 0, 0.3));\n",
              "      fill: #FFFFFF;\n",
              "    }\n",
              "  </style>\n",
              "\n",
              "      <script>\n",
              "        const buttonEl =\n",
              "          document.querySelector('#df-7b10c9c3-b3bf-4e90-b84e-59daca5413dd button.colab-df-convert');\n",
              "        buttonEl.style.display =\n",
              "          google.colab.kernel.accessAllowed ? 'block' : 'none';\n",
              "\n",
              "        async function convertToInteractive(key) {\n",
              "          const element = document.querySelector('#df-7b10c9c3-b3bf-4e90-b84e-59daca5413dd');\n",
              "          const dataTable =\n",
              "            await google.colab.kernel.invokeFunction('convertToInteractive',\n",
              "                                                     [key], {});\n",
              "          if (!dataTable) return;\n",
              "\n",
              "          const docLinkHtml = 'Like what you see? Visit the ' +\n",
              "            '<a target=\"_blank\" href=https://colab.research.google.com/notebooks/data_table.ipynb>data table notebook</a>'\n",
              "            + ' to learn more about interactive tables.';\n",
              "          element.innerHTML = '';\n",
              "          dataTable['output_type'] = 'display_data';\n",
              "          await google.colab.output.renderOutput(dataTable, element);\n",
              "          const docLink = document.createElement('div');\n",
              "          docLink.innerHTML = docLinkHtml;\n",
              "          element.appendChild(docLink);\n",
              "        }\n",
              "      </script>\n",
              "    </div>\n",
              "  </div>\n",
              "  "
            ]
          },
          "metadata": {},
          "execution_count": 53
        }
      ]
    },
    {
      "cell_type": "code",
      "source": [
        "dataframe_final = pd.concat([dataframe_tweets_lula, dataframe_tweets_bolsonaro, dataframe_tweets_ciro], axis = 0)"
      ],
      "metadata": {
        "id": "jrwrYfwde44V"
      },
      "execution_count": null,
      "outputs": []
    },
    {
      "cell_type": "code",
      "source": [
        "dataframe_final.head()"
      ],
      "metadata": {
        "colab": {
          "base_uri": "https://localhost:8080/",
          "height": 206
        },
        "id": "ek0txEahfW8A",
        "outputId": "52c7e661-4f46-4a72-8147-13c68c4ababc"
      },
      "execution_count": null,
      "outputs": [
        {
          "output_type": "execute_result",
          "data": {
            "text/plain": [
              "                  Data_Hora              IdTweet  \\\n",
              "0 2022-07-30 00:05:44+00:00  1553169938575249408   \n",
              "1 2022-07-30 00:05:44+00:00  1553169937178497025   \n",
              "2 2022-07-30 00:05:44+00:00  1553169937073594368   \n",
              "3 2022-07-30 00:05:43+00:00  1553169934947160065   \n",
              "4 2022-07-30 00:05:42+00:00  1553169932141187072   \n",
              "\n",
              "                                               Tweet Candidato  \n",
              "0   @CentralEleicoes Fora Bolsonaro. É Lula e Rafael      Lula  \n",
              "1  eu sonhei que conhecia o presidente lula (????...      Lula  \n",
              "2  @LulaOficial LADRÃO! EX-PRESIDIARIO! O inferno...      Lula  \n",
              "3  @jeongoocrf @bolsopiva @LulaOficial https://t....      Lula  \n",
              "4  @DMoreirq @FlavioBolsonaro @CevilerioCelso Des...      Lula  "
            ],
            "text/html": [
              "\n",
              "  <div id=\"df-03ef6c62-fe5e-4504-9b44-a22f76fbd236\">\n",
              "    <div class=\"colab-df-container\">\n",
              "      <div>\n",
              "<style scoped>\n",
              "    .dataframe tbody tr th:only-of-type {\n",
              "        vertical-align: middle;\n",
              "    }\n",
              "\n",
              "    .dataframe tbody tr th {\n",
              "        vertical-align: top;\n",
              "    }\n",
              "\n",
              "    .dataframe thead th {\n",
              "        text-align: right;\n",
              "    }\n",
              "</style>\n",
              "<table border=\"1\" class=\"dataframe\">\n",
              "  <thead>\n",
              "    <tr style=\"text-align: right;\">\n",
              "      <th></th>\n",
              "      <th>Data_Hora</th>\n",
              "      <th>IdTweet</th>\n",
              "      <th>Tweet</th>\n",
              "      <th>Candidato</th>\n",
              "    </tr>\n",
              "  </thead>\n",
              "  <tbody>\n",
              "    <tr>\n",
              "      <th>0</th>\n",
              "      <td>2022-07-30 00:05:44+00:00</td>\n",
              "      <td>1553169938575249408</td>\n",
              "      <td>@CentralEleicoes Fora Bolsonaro. É Lula e Rafael</td>\n",
              "      <td>Lula</td>\n",
              "    </tr>\n",
              "    <tr>\n",
              "      <th>1</th>\n",
              "      <td>2022-07-30 00:05:44+00:00</td>\n",
              "      <td>1553169937178497025</td>\n",
              "      <td>eu sonhei que conhecia o presidente lula (????...</td>\n",
              "      <td>Lula</td>\n",
              "    </tr>\n",
              "    <tr>\n",
              "      <th>2</th>\n",
              "      <td>2022-07-30 00:05:44+00:00</td>\n",
              "      <td>1553169937073594368</td>\n",
              "      <td>@LulaOficial LADRÃO! EX-PRESIDIARIO! O inferno...</td>\n",
              "      <td>Lula</td>\n",
              "    </tr>\n",
              "    <tr>\n",
              "      <th>3</th>\n",
              "      <td>2022-07-30 00:05:43+00:00</td>\n",
              "      <td>1553169934947160065</td>\n",
              "      <td>@jeongoocrf @bolsopiva @LulaOficial https://t....</td>\n",
              "      <td>Lula</td>\n",
              "    </tr>\n",
              "    <tr>\n",
              "      <th>4</th>\n",
              "      <td>2022-07-30 00:05:42+00:00</td>\n",
              "      <td>1553169932141187072</td>\n",
              "      <td>@DMoreirq @FlavioBolsonaro @CevilerioCelso Des...</td>\n",
              "      <td>Lula</td>\n",
              "    </tr>\n",
              "  </tbody>\n",
              "</table>\n",
              "</div>\n",
              "      <button class=\"colab-df-convert\" onclick=\"convertToInteractive('df-03ef6c62-fe5e-4504-9b44-a22f76fbd236')\"\n",
              "              title=\"Convert this dataframe to an interactive table.\"\n",
              "              style=\"display:none;\">\n",
              "        \n",
              "  <svg xmlns=\"http://www.w3.org/2000/svg\" height=\"24px\"viewBox=\"0 0 24 24\"\n",
              "       width=\"24px\">\n",
              "    <path d=\"M0 0h24v24H0V0z\" fill=\"none\"/>\n",
              "    <path d=\"M18.56 5.44l.94 2.06.94-2.06 2.06-.94-2.06-.94-.94-2.06-.94 2.06-2.06.94zm-11 1L8.5 8.5l.94-2.06 2.06-.94-2.06-.94L8.5 2.5l-.94 2.06-2.06.94zm10 10l.94 2.06.94-2.06 2.06-.94-2.06-.94-.94-2.06-.94 2.06-2.06.94z\"/><path d=\"M17.41 7.96l-1.37-1.37c-.4-.4-.92-.59-1.43-.59-.52 0-1.04.2-1.43.59L10.3 9.45l-7.72 7.72c-.78.78-.78 2.05 0 2.83L4 21.41c.39.39.9.59 1.41.59.51 0 1.02-.2 1.41-.59l7.78-7.78 2.81-2.81c.8-.78.8-2.07 0-2.86zM5.41 20L4 18.59l7.72-7.72 1.47 1.35L5.41 20z\"/>\n",
              "  </svg>\n",
              "      </button>\n",
              "      \n",
              "  <style>\n",
              "    .colab-df-container {\n",
              "      display:flex;\n",
              "      flex-wrap:wrap;\n",
              "      gap: 12px;\n",
              "    }\n",
              "\n",
              "    .colab-df-convert {\n",
              "      background-color: #E8F0FE;\n",
              "      border: none;\n",
              "      border-radius: 50%;\n",
              "      cursor: pointer;\n",
              "      display: none;\n",
              "      fill: #1967D2;\n",
              "      height: 32px;\n",
              "      padding: 0 0 0 0;\n",
              "      width: 32px;\n",
              "    }\n",
              "\n",
              "    .colab-df-convert:hover {\n",
              "      background-color: #E2EBFA;\n",
              "      box-shadow: 0px 1px 2px rgba(60, 64, 67, 0.3), 0px 1px 3px 1px rgba(60, 64, 67, 0.15);\n",
              "      fill: #174EA6;\n",
              "    }\n",
              "\n",
              "    [theme=dark] .colab-df-convert {\n",
              "      background-color: #3B4455;\n",
              "      fill: #D2E3FC;\n",
              "    }\n",
              "\n",
              "    [theme=dark] .colab-df-convert:hover {\n",
              "      background-color: #434B5C;\n",
              "      box-shadow: 0px 1px 3px 1px rgba(0, 0, 0, 0.15);\n",
              "      filter: drop-shadow(0px 1px 2px rgba(0, 0, 0, 0.3));\n",
              "      fill: #FFFFFF;\n",
              "    }\n",
              "  </style>\n",
              "\n",
              "      <script>\n",
              "        const buttonEl =\n",
              "          document.querySelector('#df-03ef6c62-fe5e-4504-9b44-a22f76fbd236 button.colab-df-convert');\n",
              "        buttonEl.style.display =\n",
              "          google.colab.kernel.accessAllowed ? 'block' : 'none';\n",
              "\n",
              "        async function convertToInteractive(key) {\n",
              "          const element = document.querySelector('#df-03ef6c62-fe5e-4504-9b44-a22f76fbd236');\n",
              "          const dataTable =\n",
              "            await google.colab.kernel.invokeFunction('convertToInteractive',\n",
              "                                                     [key], {});\n",
              "          if (!dataTable) return;\n",
              "\n",
              "          const docLinkHtml = 'Like what you see? Visit the ' +\n",
              "            '<a target=\"_blank\" href=https://colab.research.google.com/notebooks/data_table.ipynb>data table notebook</a>'\n",
              "            + ' to learn more about interactive tables.';\n",
              "          element.innerHTML = '';\n",
              "          dataTable['output_type'] = 'display_data';\n",
              "          await google.colab.output.renderOutput(dataTable, element);\n",
              "          const docLink = document.createElement('div');\n",
              "          docLink.innerHTML = docLinkHtml;\n",
              "          element.appendChild(docLink);\n",
              "        }\n",
              "      </script>\n",
              "    </div>\n",
              "  </div>\n",
              "  "
            ]
          },
          "metadata": {},
          "execution_count": 55
        }
      ]
    },
    {
      "cell_type": "code",
      "source": [
        "dataframe_final['Candidato'].unique()"
      ],
      "metadata": {
        "colab": {
          "base_uri": "https://localhost:8080/"
        },
        "id": "aVsq4ZkNfYLs",
        "outputId": "7d377d86-a5d2-47e0-bbce-f21173b11b65"
      },
      "execution_count": null,
      "outputs": [
        {
          "output_type": "execute_result",
          "data": {
            "text/plain": [
              "array(['Lula', 'Bolsonaro', 'Ciro Gomes'], dtype=object)"
            ]
          },
          "metadata": {},
          "execution_count": 56
        }
      ]
    },
    {
      "cell_type": "code",
      "source": [
        "dataframe_final.to_csv('dataframe_final_candidatos.csv', sep=',', index=False)"
      ],
      "metadata": {
        "id": "RUtC2WdrfgTN"
      },
      "execution_count": null,
      "outputs": []
    },
    {
      "cell_type": "code",
      "source": [
        ""
      ],
      "metadata": {
        "id": "VP9Kd2ASgK1U"
      },
      "execution_count": null,
      "outputs": []
    }
  ]
}